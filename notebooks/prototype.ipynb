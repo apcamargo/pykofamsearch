{
 "cells": [
  {
   "cell_type": "code",
   "execution_count": 1,
   "id": "50d89afe-1302-4db1-a420-ecc4fe45f7d2",
   "metadata": {},
   "outputs": [
    {
     "ename": "ModuleNotFoundError",
     "evalue": "No module named 'pyhmmer'",
     "output_type": "error",
     "traceback": [
      "\u001b[0;31m---------------------------------------------------------------------------\u001b[0m",
      "\u001b[0;31mModuleNotFoundError\u001b[0m                       Traceback (most recent call last)",
      "Cell \u001b[0;32mIn[1], line 1\u001b[0m\n\u001b[0;32m----> 1\u001b[0m \u001b[38;5;28;01mfrom\u001b[39;00m \u001b[38;5;21;01mpyhmmer\u001b[39;00m\u001b[38;5;21;01m.\u001b[39;00m\u001b[38;5;21;01mplan7\u001b[39;00m \u001b[38;5;28;01mimport\u001b[39;00m HMMFile\n\u001b[1;32m      2\u001b[0m \u001b[38;5;28;01mfrom\u001b[39;00m \u001b[38;5;21;01mpyhmmer\u001b[39;00m\u001b[38;5;21;01m.\u001b[39;00m\u001b[38;5;21;01measel\u001b[39;00m \u001b[38;5;28;01mimport\u001b[39;00m SequenceFile\n\u001b[1;32m      3\u001b[0m \u001b[38;5;28;01mfrom\u001b[39;00m \u001b[38;5;21;01mpyhmmer\u001b[39;00m \u001b[38;5;28;01mimport\u001b[39;00m hmmsearch\n",
      "\u001b[0;31mModuleNotFoundError\u001b[0m: No module named 'pyhmmer'"
     ]
    }
   ],
   "source": [
    "from pyhmmer.plan7 import HMMFile\n",
    "from pyhmmer.easel import SequenceFile\n",
    "from pyhmmer import hmmsearch\n",
    "import sys, os, glob, gzip, warnings\n",
    "import pandas as pd\n",
    "from tqdm import tqdm\n",
    "from collections import defaultdict\n",
    "\n",
    "import soothsayer as sy"
   ]
  },
  {
   "cell_type": "code",
   "execution_count": 17,
   "id": "ac3f06c4-e96e-4020-a416-4b64304b72f4",
   "metadata": {},
   "outputs": [],
   "source": [
    "# with HMMFile(\"/Users/jolespin/Databases/KOFAM/test.hmm\") as hmm_file:\n",
    "class Dummy():pass\n",
    "opts = Dummy()\n",
    "\n",
    "opts.proteins = \"./test.faa\"\n",
    "opts.kofam_database = \"/Users/jolespin/Databases/KOFAM\"\n",
    "opts.evalue = 0.1\n",
    "opts.n_jobs = 0\n",
    "\n",
    "# df_meta_kofam = pd.read_csv(os.path.join(opts.kofam_database, \"ko_list\"), sep=\"\\t\", index_col=0)\n",
    "# ko_to_data = df_meta_kofam.T.to_dict()\n",
    "\n",
    "\n",
    "ko_to_data = defaultdict(dict)\n",
    "with open(os.path.join(opts.kofam_database, \"ko_list\"), \"r\") as f:\n",
    "    header = next(f).strip().split(\"\\t\")[1:]\n",
    "    for line in f:\n",
    "        line = line.strip()\n",
    "        if line:\n",
    "            id_ko, *fields = line.split(\"\\t\")\n",
    "            \n",
    "            for i, v in enumerate(fields):\n",
    "                id_field = header[i]\n",
    "    \n",
    "                try:\n",
    "                    v = float(v)\n",
    "                except ValueError:\n",
    "                    v = v\n",
    "                if v == \"-\":\n",
    "                    v = None\n",
    "                ko_to_data[id_ko][id_field] = v\n",
    "        \n",
    "\n",
    "# name_to_hmm = dict()\n",
    "# missing_kos = set()\n",
    "# for id_ko in tqdm(ko_to_data, desc=\"Loading HMMs\", total=len(ko_to_data)):\n",
    "#     ko_filepath = os.path.join(opts.kofam_database, \"profiles\", f\"{id_ko}.hmm\")\n",
    "#     try:\n",
    "#         with HMMFile(ko_filepath) as hmm_file:\n",
    "#             for hmm in list(hmm_file):\n",
    "#                 name_to_hmm[hmm.name.decode()] = hmm\n",
    "#     except FileNotFoundError:\n",
    "#         missing_kos.add(id_ko)\n",
    "2\n",
    "with SequenceFile(opts.proteins + \".gz\", format=\"fasta\", digital=True) as seqs_file:\n",
    "    proteins = seqs_file.read_block()\n",
    "# proteins\n",
    "\n",
    "# {('SRR13615825__k127_151253_1', 'K07497'),\n",
    "#  ('SRR13615825__k127_292915_2', 'K07497')}"
   ]
  },
  {
   "cell_type": "code",
   "execution_count": 35,
   "id": "16cede4a-4a97-4cbe-9b81-7aecafc4d480",
   "metadata": {},
   "outputs": [
    {
     "data": {
      "text/plain": [
       "'SRR13615825__k127_125066_1'"
      ]
     },
     "execution_count": 35,
     "metadata": {},
     "output_type": "execute_result"
    }
   ],
   "source": [
    "from pyhmmer.easel import TextSequence, DigitalSequence, Alphabet\n",
    "from Bio.SeqIO.FastaIO import SimpleFastaParser\n",
    "# TextSequence(sequence=seq, name=str(i).encode()).digitize(hmm.alphabet)\n",
    "# seq = TextSequence(sequence=\"MAAAAF\", name=\"test\".encode())\n",
    "# seq.digitize(\"aa\")\n",
    "\n",
    "with gzip.open(\"./test.faa.gz\", \"rb\") as f:\n",
    "    for header, seq in SimpleFastaParser(f):\n",
    "        id = header.split(\" \")[0]\n",
    "        break\n",
    "id\n"
   ]
  },
  {
   "cell_type": "code",
   "execution_count": null,
   "id": "f4db2922-90b6-4f87-be7d-7b07defb970c",
   "metadata": {},
   "outputs": [],
   "source": [
    "df = pd.DataFrame(ko_to_data).T\n",
    "df.loc[df[\"definition\"].map(lambda x: \"[EC:\" not in x)]"
   ]
  },
  {
   "cell_type": "code",
   "execution_count": 163,
   "id": "975999a7-0b0e-40e9-bdd1-45a639c287fd",
   "metadata": {},
   "outputs": [
    {
     "name": "stderr",
     "output_type": "stream",
     "text": [
      "Performing HMMSearch: 100%|███████████████████████████████████████████████████████████████████████████████████| 26162/26162 [00:00<00:00, 701338.24it/s]"
     ]
    },
    {
     "name": "stdout",
     "output_type": "stream",
     "text": [
      "SRR13615825__k127_281_1\tK01039\t171.83\t382.19500732421875\t5.60547e-115\tglutaconate CoA-transferase, subunit A [EC:2.8.3.12]\n"
     ]
    },
    {
     "name": "stderr",
     "output_type": "stream",
     "text": [
      "\n"
     ]
    }
   ],
   "source": [
    "import collections\n",
    "\n",
    "def filter_threshold(\n",
    "    hit, \n",
    "    threshold,\n",
    "    score_type, \n",
    "    ):\n",
    "\n",
    "    evalue = \"{:0.5e}\".format(hit.evalue)\n",
    "\n",
    "\n",
    "    if score_type:\n",
    "        if score_type == \"domain\":\n",
    "            score = hit.best_domain.score\n",
    "        else:\n",
    "            score = hit.score\n",
    "        if score >= threshold:\n",
    "            return (threshold, score, evalue)\n",
    "    else:\n",
    "        return (\"\", score, evalue)\n",
    "        \n",
    "        \n",
    "            \n",
    "\n",
    "            \n",
    "    \n",
    "# #       gene name       KO      thrshld score   E-value \"KO definition\"\n",
    "# Result = collections.namedtuple(\"Result\", [\"query\", \"ko\", \"bitscore\", \"evalue\", \"definition\"])\n",
    "\n",
    "hmms = [name_to_hmm[\"K00001\"], name_to_hmm[\"K00002\"]]\n",
    "name_to_hmm2 = {\n",
    "    \"K00001\":name_to_hmm[\"K00001\"],\n",
    "    \"K00002\":name_to_hmm[\"K00002\"],\n",
    "}\n",
    "\n",
    "for id_ko, hmm in  tqdm(name_to_hmm.items(), desc=\"Performing HMMSearch\", total=len(name_to_hmm)):\n",
    "    if id_ko == \"K01039\":\n",
    "    \n",
    "        data = ko_to_data[id_ko]\n",
    "        threshold = data[\"threshold\"]\n",
    "        score_type = data[\"score_type\"]\n",
    "        definition = data[\"definition\"]\n",
    "    \n",
    "        \n",
    "        for hits in hmmsearch(hmm, proteins, cpus=opts.n_jobs, E=opts.evalue):\n",
    "            id_ko = hits.cog\n",
    "            for hit in hits:\n",
    "                if hit.included:\n",
    "                    result = filter_threshold(hit, threshold, score_type)\n",
    "                    if result:\n",
    "                        threshold, score, evalue = result\n",
    "                        print(hit.name.decode(), id_ko, threshold, score, evalue, definition, sep=\"\\t\")\n",
    "                        \n",
    "                    \n"
   ]
  },
  {
   "cell_type": "code",
   "execution_count": 166,
   "id": "8b00f0bd-4c40-44c6-9d9b-db326e14cc51",
   "metadata": {},
   "outputs": [
    {
     "data": {
      "text/plain": [
       "b'# 3 # 1298 # 1 # ID=4777_1;partial=11;start_type=Edge;rbs_motif=None;rbs_spacer=None;gc_cont=0.677'"
      ]
     },
     "execution_count": 166,
     "metadata": {},
     "output_type": "execute_result"
    }
   ],
   "source": [
    "# for hit in hits:\n",
    "#     if hit.name.decode() == \"SRR13615825__k127_281_1\":\n",
    "#         print(hit.name, hit.evalue, hit.best_domain.pvalue)\n",
    "hit."
   ]
  },
  {
   "cell_type": "code",
   "execution_count": null,
   "id": "0bd82ad9-7c20-4653-8363-0be89c46d6c9",
   "metadata": {},
   "outputs": [],
   "source": [
    "\n",
    "# with SequenceFile(\"data/seqs/938293.PRJEB85.HG003687.faa\", digital=True) as seqs_file:\n",
    "#     proteins = seqs_file.read_block()\n",
    "    \n",
    "\n",
    "# baseurl = \"https://github.com/motu-tool/fetchMGs/raw/master/lib/{}.hmm\"\n",
    "\n",
    "# hmms = []\n",
    "# for cog in cutoffs:\n",
    "#     with urllib.request.urlopen(baseurl.format(cog)) as f:\n",
    "#         with HMMFile(f) as hmm_file:\n",
    "#             hmm = hmm_file.read()\n",
    "#         cutoff = cutoffs[hmm.name.decode()]\n",
    "#         hmm.cutoffs.trusted = (cutoff, cutoff)\n",
    "#         hmms.append(hmm)"
   ]
  },
  {
   "cell_type": "code",
   "execution_count": 168,
   "id": "0164319c-1538-4316-aebf-72b3782f0d35",
   "metadata": {},
   "outputs": [
    {
     "data": {
      "text/plain": [
       "<pyhmmer.easel.DigitalSequence at 0x18d329e80>"
      ]
     },
     "execution_count": 168,
     "metadata": {},
     "output_type": "execute_result"
    }
   ],
   "source": [
    "seq = proteins[0]\n",
    "seq"
   ]
  },
  {
   "cell_type": "code",
   "execution_count": 152,
   "id": "a3901659-2bb2-4a94-8d1a-1c589b339e3b",
   "metadata": {},
   "outputs": [
    {
     "data": {
      "text/plain": [
       "threshold                                                  171.83\n",
       "score_type                                                 domain\n",
       "profile_type                                                  all\n",
       "F-measure                                                0.996499\n",
       "nseq                                                          960\n",
       "nseq_used                                                     855\n",
       "alen                                                         1496\n",
       "mlen                                                          383\n",
       "eff_nseq                                                     4.67\n",
       "re/pos                                                      0.590\n",
       "definition      glutaconate CoA-transferase, subunit A [EC:2.8...\n",
       "Name: K01039, dtype: object"
      ]
     },
     "execution_count": 152,
     "metadata": {},
     "output_type": "execute_result"
    }
   ],
   "source": [
    "df_meta_kofam.loc[\"K01039\"]"
   ]
  },
  {
   "cell_type": "code",
   "execution_count": 174,
   "id": "1ceb6fbe-04a4-4a2e-80bf-620757cf223c",
   "metadata": {},
   "outputs": [
    {
     "data": {
      "text/plain": [
       "2142"
      ]
     },
     "execution_count": 174,
     "metadata": {},
     "output_type": "execute_result"
    }
   ],
   "source": [
    "s = 0\n",
    "with SequenceFile(opts.proteins, format=\"fasta\", digital=True) as seqs_file:\n",
    "    for block in seqs_file.read_block(sequences=10):\n",
    "         s += len(k)\n",
    "s"
   ]
  },
  {
   "cell_type": "code",
   "execution_count": 177,
   "id": "419dcaa2-314e-40d7-82e2-b3e385cc408c",
   "metadata": {},
   "outputs": [
    {
     "data": {
      "text/plain": [
       "<pyhmmer.easel.DigitalSequence at 0x18953ac40>"
      ]
     },
     "execution_count": 177,
     "metadata": {},
     "output_type": "execute_result"
    }
   ],
   "source": [
    "k"
   ]
  },
  {
   "cell_type": "code",
   "execution_count": 2,
   "id": "f99d3e6d-f090-418e-b2ce-a2ad159fb746",
   "metadata": {},
   "outputs": [
    {
     "name": "stderr",
     "output_type": "stream",
     "text": [
      "====================\n",
      "Soothsayer Ecosystem\n",
      "====================\n",
      " * Soothsayer v2024.2.27\n",
      " * Soothsayer Utilities v2022.6.24\n",
      " * Compositional v2023.8.28\n",
      " * Hive NetworkX v2023.8.22\n",
      " * Ensemble NetworkX v2024.2.5\n",
      " \n",
      "===================\n",
      "Auxillary Ecosystem\n",
      "===================\n",
      " * Python v3.9.18\n",
      " * Pandas v2.2.1\n",
      " * NumPy v1.26.4\n"
     ]
    }
   ],
   "source": [
    "import soothsayer as sy"
   ]
  },
  {
   "cell_type": "code",
   "execution_count": 23,
   "id": "55a7562a-8e9d-48df-9562-fe34871b72ad",
   "metadata": {},
   "outputs": [],
   "source": [
    "ko_to_data, name_to_hmm = sy.io.read_object(\"/Users/jolespin/Databases/KOFAM/database.pkl\")\n"
   ]
  },
  {
   "cell_type": "code",
   "execution_count": 24,
   "id": "a54fabb3-bbb9-44c0-9b3c-dec4af6917db",
   "metadata": {},
   "outputs": [
    {
     "name": "stderr",
     "output_type": "stream",
     "text": [
      "100%|█████████████████████████████████████████████████████████████████████████████████████████████████████████████████████████████████████████████████████████████████████████████████████████████████████████████████████████████████| 26598/26598 [00:00<00:00, 442944.88it/s]\n"
     ]
    }
   ],
   "source": [
    "# for id_ko, data in sy.pv(ko_to_data.items()):\n",
    "#     definition = data[\"definition\"]\n",
    "#     ec = pd.NA\n",
    "#     if \"[EC:\" in definition:\n",
    "#         fields = definition.split(\"[EC:\")\n",
    "#         assert len(fields) == 2, fields\n",
    "#         ec = fields[-1][:-1]\n",
    "#         assert \".\" in ec\n",
    "#     ko_to_data[id_ko][\"ec\"] = ec\n",
    "# df = pd.DataFrame(ko_to_data).T\n",
    "\n",
    "\n",
    "for id_ko, data in sy.pv(ko_to_data.items()):\n",
    "    ec = ko_to_data[id_ko][\"ec\"]\n",
    "    del ko_to_data[id_ko][\"ec\"]\n",
    "    ko_to_data[id_ko][\"enzyme_commission\"] = ec\n",
    "df = pd.DataFrame(ko_to_data).T\n",
    "df.loc[df[\"enzyme_commission\"].isnull()] = np.nan\n"
   ]
  },
  {
   "cell_type": "code",
   "execution_count": 39,
   "id": "6e52ca6e-b0e0-4c3d-a271-6bc58146a0de",
   "metadata": {},
   "outputs": [
    {
     "data": {
      "text/plain": [
       "True"
      ]
     },
     "execution_count": 39,
     "metadata": {},
     "output_type": "execute_result"
    }
   ],
   "source": [
    "df = pd.DataFrame(ko_to_data).T\n",
    "# df\n",
    "# .dropna(how=\"any\",axis=0)"
   ]
  },
  {
   "cell_type": "code",
   "execution_count": 43,
   "id": "ab3b5f43-242d-46a2-a3d2-e8fcdd867aeb",
   "metadata": {},
   "outputs": [],
   "source": [
    "sy.io.write_object((ko_to_data, name_to_hmm), \"/Users/jolespin/Databases/KOFAM/database.pkl\")"
   ]
  },
  {
   "cell_type": "code",
   "execution_count": 48,
   "id": "3deeb20c-258a-47ed-8f15-44dc20435acc",
   "metadata": {},
   "outputs": [],
   "source": [
    "ko_to_data__ec = dict()\n",
    "name_to_hmm__ec = dict()\n",
    "for id_ko, data in ko_to_data.items():\n",
    "    ec = data[\"enzyme_commission\"]\n",
    "    if pd.notnull(ec):\n",
    "        ko_to_data__ec[id_ko] = data\n",
    "        name_to_hmm__ec[id_ko] = name_to_hmm[id_ko]"
   ]
  },
  {
   "cell_type": "code",
   "execution_count": 40,
   "id": "9b332819-13e8-4657-8de4-b4799338e1ad",
   "metadata": {},
   "outputs": [
    {
     "data": {
      "text/plain": [
       "(26598, 12)"
      ]
     },
     "execution_count": 40,
     "metadata": {},
     "output_type": "execute_result"
    }
   ],
   "source": [
    "df.shape"
   ]
  },
  {
   "cell_type": "code",
   "execution_count": 49,
   "id": "39db865f-d554-4dc6-8de9-836caa3781aa",
   "metadata": {},
   "outputs": [
    {
     "data": {
      "text/plain": [
       "(10544, 10544)"
      ]
     },
     "execution_count": 49,
     "metadata": {},
     "output_type": "execute_result"
    }
   ],
   "source": [
    "len(ko_to_data__ec), len(name_to_hmm__ec)"
   ]
  },
  {
   "cell_type": "code",
   "execution_count": 42,
   "id": "8e47e3cf-0f53-41f6-a2f5-06c37bbee8d2",
   "metadata": {},
   "outputs": [
    {
     "data": {
      "text/plain": [
       "True"
      ]
     },
     "execution_count": 42,
     "metadata": {},
     "output_type": "execute_result"
    }
   ],
   "source": [
    "set(name_to_hmm.keys()) <= set(df.index)"
   ]
  },
  {
   "cell_type": "code",
   "execution_count": 54,
   "id": "f073d14b-3285-4732-a3df-2a131852853e",
   "metadata": {},
   "outputs": [],
   "source": [
    "sy.io.write_object((ko_to_data__ec, name_to_hmm__ec), \"/Users/jolespin/Databases/KOFAM/database.enzymes.pkl\")"
   ]
  },
  {
   "cell_type": "code",
   "execution_count": 47,
   "id": "1297b7a4-5688-4905-afd3-47cb57933027",
   "metadata": {},
   "outputs": [],
   "source": [
    "from pandas import notnull\n",
    "notnull("
   ]
  },
  {
   "cell_type": "code",
   "execution_count": 53,
   "id": "f1fed997-e829-45f3-9311-38faf6ff88b1",
   "metadata": {},
   "outputs": [
    {
     "data": {
      "text/html": [
       "<div>\n",
       "<style scoped>\n",
       "    .dataframe tbody tr th:only-of-type {\n",
       "        vertical-align: middle;\n",
       "    }\n",
       "\n",
       "    .dataframe tbody tr th {\n",
       "        vertical-align: top;\n",
       "    }\n",
       "\n",
       "    .dataframe thead th {\n",
       "        text-align: right;\n",
       "    }\n",
       "</style>\n",
       "<table border=\"1\" class=\"dataframe\">\n",
       "  <thead>\n",
       "    <tr style=\"text-align: right;\">\n",
       "      <th></th>\n",
       "      <th>threshold</th>\n",
       "      <th>score_type</th>\n",
       "      <th>profile_type</th>\n",
       "      <th>F-measure</th>\n",
       "      <th>nseq</th>\n",
       "      <th>nseq_used</th>\n",
       "      <th>alen</th>\n",
       "      <th>mlen</th>\n",
       "      <th>eff_nseq</th>\n",
       "      <th>re/pos</th>\n",
       "      <th>definition</th>\n",
       "      <th>enzyme_commission</th>\n",
       "    </tr>\n",
       "  </thead>\n",
       "  <tbody>\n",
       "    <tr>\n",
       "      <th>K00001</th>\n",
       "      <td>331.37</td>\n",
       "      <td>domain</td>\n",
       "      <td>all</td>\n",
       "      <td>0.307023</td>\n",
       "      <td>2853.0</td>\n",
       "      <td>2390.0</td>\n",
       "      <td>2242.0</td>\n",
       "      <td>502.0</td>\n",
       "      <td>14.92</td>\n",
       "      <td>0.59</td>\n",
       "      <td>alcohol dehydrogenase [EC:1.1.1.1]</td>\n",
       "      <td>1.1.1.1</td>\n",
       "    </tr>\n",
       "    <tr>\n",
       "      <th>K00002</th>\n",
       "      <td>430.07</td>\n",
       "      <td>full</td>\n",
       "      <td>all</td>\n",
       "      <td>0.425739</td>\n",
       "      <td>2834.0</td>\n",
       "      <td>2714.0</td>\n",
       "      <td>7706.0</td>\n",
       "      <td>440.0</td>\n",
       "      <td>6.7</td>\n",
       "      <td>0.59</td>\n",
       "      <td>alcohol dehydrogenase (NADP+) [EC:1.1.1.2]</td>\n",
       "      <td>1.1.1.2</td>\n",
       "    </tr>\n",
       "    <tr>\n",
       "      <th>K00003</th>\n",
       "      <td>284.43</td>\n",
       "      <td>domain</td>\n",
       "      <td>all</td>\n",
       "      <td>0.947269</td>\n",
       "      <td>7038.0</td>\n",
       "      <td>6099.0</td>\n",
       "      <td>3337.0</td>\n",
       "      <td>561.0</td>\n",
       "      <td>6.48</td>\n",
       "      <td>0.59</td>\n",
       "      <td>homoserine dehydrogenase [EC:1.1.1.3]</td>\n",
       "      <td>1.1.1.3</td>\n",
       "    </tr>\n",
       "    <tr>\n",
       "      <th>K00004</th>\n",
       "      <td>368.53</td>\n",
       "      <td>domain</td>\n",
       "      <td>all</td>\n",
       "      <td>0.835152</td>\n",
       "      <td>1773.0</td>\n",
       "      <td>1506.0</td>\n",
       "      <td>1278.0</td>\n",
       "      <td>426.0</td>\n",
       "      <td>5.63</td>\n",
       "      <td>0.59</td>\n",
       "      <td>(R,R)-butanediol dehydrogenase / meso-butanedi...</td>\n",
       "      <td>1.1.1.4 1.1.1.- 1.1.1.303</td>\n",
       "    </tr>\n",
       "    <tr>\n",
       "      <th>K00005</th>\n",
       "      <td>327.1</td>\n",
       "      <td>full</td>\n",
       "      <td>all</td>\n",
       "      <td>0.976968</td>\n",
       "      <td>1592.0</td>\n",
       "      <td>1182.0</td>\n",
       "      <td>793.0</td>\n",
       "      <td>372.0</td>\n",
       "      <td>2.16</td>\n",
       "      <td>0.59</td>\n",
       "      <td>glycerol dehydrogenase [EC:1.1.1.6]</td>\n",
       "      <td>1.1.1.6</td>\n",
       "    </tr>\n",
       "    <tr>\n",
       "      <th>...</th>\n",
       "      <td>...</td>\n",
       "      <td>...</td>\n",
       "      <td>...</td>\n",
       "      <td>...</td>\n",
       "      <td>...</td>\n",
       "      <td>...</td>\n",
       "      <td>...</td>\n",
       "      <td>...</td>\n",
       "      <td>...</td>\n",
       "      <td>...</td>\n",
       "      <td>...</td>\n",
       "      <td>...</td>\n",
       "    </tr>\n",
       "    <tr>\n",
       "      <th>K27292</th>\n",
       "      <td>429.0</td>\n",
       "      <td>domain</td>\n",
       "      <td>all</td>\n",
       "      <td>1.0</td>\n",
       "      <td>126.0</td>\n",
       "      <td>123.0</td>\n",
       "      <td>862.0</td>\n",
       "      <td>556.0</td>\n",
       "      <td>2.2</td>\n",
       "      <td>0.589</td>\n",
       "      <td>3-aminoavenalumate diazotase [EC:6.7.1.2]</td>\n",
       "      <td>6.7.1.2</td>\n",
       "    </tr>\n",
       "    <tr>\n",
       "      <th>K27305</th>\n",
       "      <td>None</td>\n",
       "      <td>None</td>\n",
       "      <td>None</td>\n",
       "      <td>None</td>\n",
       "      <td>2.0</td>\n",
       "      <td>2.0</td>\n",
       "      <td>3429.0</td>\n",
       "      <td>3195.0</td>\n",
       "      <td>0.54</td>\n",
       "      <td>0.594</td>\n",
       "      <td>polyketide synthase / 4-carboxy-3-alkylbut-2-e...</td>\n",
       "      <td>4.1.1.125</td>\n",
       "    </tr>\n",
       "    <tr>\n",
       "      <th>K27307</th>\n",
       "      <td>252.87</td>\n",
       "      <td>full</td>\n",
       "      <td>all</td>\n",
       "      <td>1.0</td>\n",
       "      <td>362.0</td>\n",
       "      <td>297.0</td>\n",
       "      <td>1073.0</td>\n",
       "      <td>423.0</td>\n",
       "      <td>1.59</td>\n",
       "      <td>0.59</td>\n",
       "      <td>acetyltransferase [EC:2.3.1.-]</td>\n",
       "      <td>2.3.1.-</td>\n",
       "    </tr>\n",
       "    <tr>\n",
       "      <th>K27318</th>\n",
       "      <td>312.77</td>\n",
       "      <td>full</td>\n",
       "      <td>all</td>\n",
       "      <td>0.966168</td>\n",
       "      <td>1099.0</td>\n",
       "      <td>1066.0</td>\n",
       "      <td>5760.0</td>\n",
       "      <td>538.0</td>\n",
       "      <td>4.81</td>\n",
       "      <td>0.59</td>\n",
       "      <td>mitochondrial amidoxime-reducing component [EC...</td>\n",
       "      <td>1.7.-.-</td>\n",
       "    </tr>\n",
       "    <tr>\n",
       "      <th>K27343</th>\n",
       "      <td>237.87</td>\n",
       "      <td>full</td>\n",
       "      <td>all</td>\n",
       "      <td>1.0</td>\n",
       "      <td>1569.0</td>\n",
       "      <td>1323.0</td>\n",
       "      <td>1178.0</td>\n",
       "      <td>473.0</td>\n",
       "      <td>3.61</td>\n",
       "      <td>0.59</td>\n",
       "      <td>tRNA(Met) cytidine acetate ligase [EC:6.3.4.-]</td>\n",
       "      <td>6.3.4.-</td>\n",
       "    </tr>\n",
       "  </tbody>\n",
       "</table>\n",
       "<p>10544 rows × 12 columns</p>\n",
       "</div>"
      ],
      "text/plain": [
       "       threshold score_type profile_type F-measure    nseq nseq_used    alen  \\\n",
       "K00001    331.37     domain          all  0.307023  2853.0    2390.0  2242.0   \n",
       "K00002    430.07       full          all  0.425739  2834.0    2714.0  7706.0   \n",
       "K00003    284.43     domain          all  0.947269  7038.0    6099.0  3337.0   \n",
       "K00004    368.53     domain          all  0.835152  1773.0    1506.0  1278.0   \n",
       "K00005     327.1       full          all  0.976968  1592.0    1182.0   793.0   \n",
       "...          ...        ...          ...       ...     ...       ...     ...   \n",
       "K27292     429.0     domain          all       1.0   126.0     123.0   862.0   \n",
       "K27305      None       None         None      None     2.0       2.0  3429.0   \n",
       "K27307    252.87       full          all       1.0   362.0     297.0  1073.0   \n",
       "K27318    312.77       full          all  0.966168  1099.0    1066.0  5760.0   \n",
       "K27343    237.87       full          all       1.0  1569.0    1323.0  1178.0   \n",
       "\n",
       "          mlen eff_nseq re/pos  \\\n",
       "K00001   502.0    14.92   0.59   \n",
       "K00002   440.0      6.7   0.59   \n",
       "K00003   561.0     6.48   0.59   \n",
       "K00004   426.0     5.63   0.59   \n",
       "K00005   372.0     2.16   0.59   \n",
       "...        ...      ...    ...   \n",
       "K27292   556.0      2.2  0.589   \n",
       "K27305  3195.0     0.54  0.594   \n",
       "K27307   423.0     1.59   0.59   \n",
       "K27318   538.0     4.81   0.59   \n",
       "K27343   473.0     3.61   0.59   \n",
       "\n",
       "                                               definition  \\\n",
       "K00001                 alcohol dehydrogenase [EC:1.1.1.1]   \n",
       "K00002         alcohol dehydrogenase (NADP+) [EC:1.1.1.2]   \n",
       "K00003              homoserine dehydrogenase [EC:1.1.1.3]   \n",
       "K00004  (R,R)-butanediol dehydrogenase / meso-butanedi...   \n",
       "K00005                glycerol dehydrogenase [EC:1.1.1.6]   \n",
       "...                                                   ...   \n",
       "K27292          3-aminoavenalumate diazotase [EC:6.7.1.2]   \n",
       "K27305  polyketide synthase / 4-carboxy-3-alkylbut-2-e...   \n",
       "K27307                     acetyltransferase [EC:2.3.1.-]   \n",
       "K27318  mitochondrial amidoxime-reducing component [EC...   \n",
       "K27343     tRNA(Met) cytidine acetate ligase [EC:6.3.4.-]   \n",
       "\n",
       "                enzyme_commission  \n",
       "K00001                    1.1.1.1  \n",
       "K00002                    1.1.1.2  \n",
       "K00003                    1.1.1.3  \n",
       "K00004  1.1.1.4 1.1.1.- 1.1.1.303  \n",
       "K00005                    1.1.1.6  \n",
       "...                           ...  \n",
       "K27292                    6.7.1.2  \n",
       "K27305                  4.1.1.125  \n",
       "K27307                    2.3.1.-  \n",
       "K27318                    1.7.-.-  \n",
       "K27343                    6.3.4.-  \n",
       "\n",
       "[10544 rows x 12 columns]"
      ]
     },
     "execution_count": 53,
     "metadata": {},
     "output_type": "execute_result"
    }
   ],
   "source": [
    "df.loc[df[\"enzyme_commission\"].notnull()]"
   ]
  },
  {
   "cell_type": "code",
   "execution_count": null,
   "id": "109352ea-34cc-4077-8a56-37cf4e354a03",
   "metadata": {},
   "outputs": [],
   "source": []
  }
 ],
 "metadata": {
  "kernelspec": {
   "display_name": "Python 3 (ipykernel)",
   "language": "python",
   "name": "python3"
  },
  "language_info": {
   "codemirror_mode": {
    "name": "ipython",
    "version": 3
   },
   "file_extension": ".py",
   "mimetype": "text/x-python",
   "name": "python",
   "nbconvert_exporter": "python",
   "pygments_lexer": "ipython3",
   "version": "3.9.18"
  }
 },
 "nbformat": 4,
 "nbformat_minor": 5
}
